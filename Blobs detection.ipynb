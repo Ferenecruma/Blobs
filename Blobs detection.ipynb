{
 "cells": [
  {
   "cell_type": "code",
   "execution_count": 185,
   "id": "stopped-dollar",
   "metadata": {},
   "outputs": [],
   "source": [
    "from glob import glob\n",
    "import numpy as np\n",
    "import os\n",
    "from math import sqrt\n",
    "import matplotlib.pyplot as plt\n",
    "from PIL import Image, ImageOps\n",
    "import matplotlib.patches as patches\n",
    "from skimage.feature import blob_dog, blob_log, blob_doh"
   ]
  },
  {
   "cell_type": "code",
   "execution_count": 201,
   "id": "successful-license",
   "metadata": {},
   "outputs": [],
   "source": [
    "paths = glob('./Blobs/*.png')"
   ]
  },
  {
   "cell_type": "code",
   "execution_count": 187,
   "id": "analyzed-disposal",
   "metadata": {},
   "outputs": [
    {
     "data": {
      "text/plain": [
       "'/home/roman/Projects/it_jim_image_processing'"
      ]
     },
     "execution_count": 187,
     "metadata": {},
     "output_type": "execute_result"
    }
   ],
   "source": [
    "os.getcwd()"
   ]
  },
  {
   "cell_type": "code",
   "execution_count": 211,
   "id": "final-vancouver",
   "metadata": {},
   "outputs": [],
   "source": [
    "images = []\n",
    "for path in paths:\n",
    "    image = ImageOps.invert(Image.open(path))\n",
    "    images.append(np.asarray(image, float))"
   ]
  },
  {
   "cell_type": "code",
   "execution_count": 212,
   "id": "economic-learning",
   "metadata": {
    "scrolled": false
   },
   "outputs": [
    {
     "name": "stderr",
     "output_type": "stream",
     "text": [
      "Clipping input data to the valid range for imshow with RGB data ([0..1] for floats or [0..255] for integers).\n"
     ]
    },
    {
     "data": {
      "text/plain": [
       "<matplotlib.image.AxesImage at 0x7fcd75dd87f0>"
      ]
     },
     "execution_count": 212,
     "metadata": {},
     "output_type": "execute_result"
    },
    {
     "data": {
      "image/png": "[encoded data removed]",
      "text/plain": [
       "<Figure size 432x288 with 1 Axes>"
      ]
     },
     "metadata": {
      "needs_background": "light"
     },
     "output_type": "display_data"
    }
   ],
   "source": [
    "fig, axis = plt.subplots(1, 1)\n",
    "axis.imshow(images[0])"
   ]
  },
  {
   "cell_type": "code",
   "execution_count": 208,
   "id": "whole-seeker",
   "metadata": {},
   "outputs": [],
   "source": [
    "from skimage.feature import blob_dog, blob_log, blob_doh"
   ]
  },
  {
   "cell_type": "code",
   "execution_count": 209,
   "id": "residential-incentive",
   "metadata": {},
   "outputs": [
    {
     "ename": "SyntaxError",
     "evalue": "invalid syntax (<ipython-input-209-b12977c60022>, line 1)",
     "output_type": "error",
     "traceback": [
      "\u001b[0;36m  File \u001b[0;32m\"<ipython-input-209-b12977c60022>\"\u001b[0;36m, line \u001b[0;32m1\u001b[0m\n\u001b[0;31m    image = images[]\u001b[0m\n\u001b[0m                   ^\u001b[0m\n\u001b[0;31mSyntaxError\u001b[0m\u001b[0;31m:\u001b[0m invalid syntax\n"
     ]
    }
   ],
   "source": [
    "image = images[]\n",
    "\n",
    "blobs_dog = blob_dog(image, max_sigma=2, threshold=9)\n",
    "blobs_dog[:, 2] = blobs_dog[:, 2] * sqrt(2)\n",
    "\n",
    "blobs_list = [blobs_dog]\n",
    "colors = ['lime']\n",
    "titles = ['Difference of Gaussian']\n",
    "sequence = zip(blobs_list, colors, titles)\n",
    "\n",
    "fig, axes = plt.subplots(2, 1, figsize=(9, 6), sharex=True, sharey=True)\n",
    "ax = axes.ravel()\n",
    "\n",
    "for idx, (blobs, color, title) in enumerate(sequence):\n",
    "    radius = blobs[0][2]\n",
    "    \n",
    "    up, bottom  = np.min(blobs[:,0])-radius, np.max(blobs[:,0])+radius\n",
    "    left, right = np.min(blobs[:,1])-radius, np.max(blobs[:,1])+radius\n",
    "    dx, dy = abs(right-left), abs(bottom-up)\n",
    "    \n",
    "    ax[idx].set_title(title)\n",
    "    ax[idx].imshow(image)\n",
    "    \n",
    "    rect = patches.Rectangle((left, bottom), dx, -dy, linewidth=2, edgecolor='r', facecolor='none')\n",
    "    ax[idx].add_patch(rect)\n",
    "        \n",
    "    ax[idx].set_axis_off()\n",
    "\n",
    "plt.tight_layout()\n",
    "plt.show()"
   ]
  },
  {
   "cell_type": "code",
   "execution_count": null,
   "id": "turkish-difference",
   "metadata": {},
   "outputs": [],
   "source": []
  }
 ],
 "metadata": {
  "kernelspec": {
   "display_name": "Python 3",
   "language": "python",
   "name": "python3"
  },
  "language_info": {
   "codemirror_mode": {
    "name": "ipython",
    "version": 3
   },
   "file_extension": ".py",
   "mimetype": "text/x-python",
   "name": "python",
   "nbconvert_exporter": "python",
   "pygments_lexer": "ipython3",
   "version": "3.8.5"
  }
 },
 "nbformat": 4,
 "nbformat_minor": 5
}
